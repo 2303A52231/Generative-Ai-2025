{
  "nbformat": 4,
  "nbformat_minor": 0,
  "metadata": {
    "colab": {
      "provenance": [],
      "include_colab_link": true
    },
    "kernelspec": {
      "name": "python3",
      "display_name": "Python 3"
    },
    "language_info": {
      "name": "python"
    }
  },
  "cells": [
    {
      "cell_type": "markdown",
      "metadata": {
        "id": "view-in-github",
        "colab_type": "text"
      },
      "source": [
        "<a href=\"https://colab.research.google.com/github/2303A52231/Generative-Ai-2025/blob/main/GEN_AI_ASSIGNMENT_01.ipynb\" target=\"_parent\"><img src=\"https://colab.research.google.com/assets/colab-badge.svg\" alt=\"Open In Colab\"/></a>"
      ]
    },
    {
      "cell_type": "code",
      "source": [
        "import numpy as np\n",
        "y_actual = (20, 30, 40, 50, 60)\n",
        "y_pred = (20.5, 30.3, 40.2, 50.6, 60.7)\n",
        "n = len(y_actual)\n",
        "y_actual = np.array(y_actual)\n",
        "y_pred = np.array(y_pred)\n",
        "\n",
        "mse = (y_actual - y_pred)**2\n",
        "mse = mse.sum() / n\n",
        "print(\"MSE:\", mse)\n",
        "mae=(y_actual-y_pred)\n",
        "mae=abs(mae).sum()/n\n",
        "print(\"MAE:\",mae)\n",
        "rmse=mse**0.5\n",
        "print(\"RMSE:\",rmse)"
      ],
      "metadata": {
        "id": "0UKiUGmsUBzt",
        "outputId": "3b02f796-c93f-48ce-b73a-e789a3c8e1fa",
        "colab": {
          "base_uri": "https://localhost:8080/"
        }
      },
      "execution_count": 1,
      "outputs": [
        {
          "output_type": "stream",
          "name": "stdout",
          "text": [
            "MSE: 0.24600000000000147\n",
            "MAE: 0.4600000000000016\n",
            "RMSE: 0.49598387070549127\n"
          ]
        }
      ]
    },
    {
      "cell_type": "code",
      "execution_count": 6,
      "metadata": {
        "id": "mVVl-ZRHNZo1",
        "outputId": "54269810-1cd6-4f4b-f216-94fff91f2c62",
        "colab": {
          "base_uri": "https://localhost:8080/"
        }
      },
      "outputs": [
        {
          "output_type": "stream",
          "name": "stdout",
          "text": [
            "MSE: 0.24600000000000147\n",
            "MAE: 0.4600000000000016\n",
            "RMSE: 0.49598387070549127\n"
          ]
        }
      ],
      "source": [
        "import numpy as np\n",
        "\n",
        "y_actual=[20,30,40,50,60]\n",
        "y_pred=[20.5,30.3,40.2,50.6,60.7]\n",
        "n=len(y_actual)\n",
        "mse=np.square(np.subtract(y_actual,y_pred)).mean()\n",
        "mae=np.mean(np.absolute(np.subtract(y_actual,y_pred)))\n",
        "rmse=np.sqrt(mean_squared_error(y_actual,y_pred))\n",
        "print(\"MSE:\",mse)\n",
        "print(\"MAE:\",mae)\n",
        "print(\"RMSE:\",rmse)"
      ]
    },
    {
      "cell_type": "code",
      "source": [
        "import numpy as np\n",
        "from sklearn.metrics import mean_squared_error\n",
        "from sklearn.metrics import mean_absolute_error\n",
        "from sklearn.metrics import root_mean_squared_error\n",
        "y_actual=[20,30,40,50,60]\n",
        "y_pred=[20.5,30.3,40.2,50.6,60.7]\n",
        "n=len(y_actual)\n",
        "mse=mean_squared_error(y_actual,y_pred)\n",
        "mae=mean_absolute_error(y_actual,y_pred)\n",
        "rmse=root_mean_squared_error(y_actual,y_pred)\n",
        "print(\"MSE:\",mse)\n",
        "print(\"MAE:\",mae)\n",
        "print(\"RMSE:\",rmse)"
      ],
      "metadata": {
        "id": "ktBhq20ndc9_",
        "outputId": "e3f9a272-a0a5-4f7a-c9bd-bad6b025d491",
        "colab": {
          "base_uri": "https://localhost:8080/"
        }
      },
      "execution_count": 5,
      "outputs": [
        {
          "output_type": "stream",
          "name": "stdout",
          "text": [
            "MSE: 0.24600000000000147\n",
            "MAE: 0.4600000000000016\n",
            "RMSE: 0.49598387070549127\n"
          ]
        }
      ]
    }
  ]
}